{
 "cells": [
  {
   "cell_type": "code",
   "execution_count": 1,
   "metadata": {},
   "outputs": [],
   "source": [
    "import sys\n",
    "from pyspark import SparkContext, SparkConf\n",
    "conf = SparkConf()\n",
    "sc = SparkContext.getOrCreate(conf=conf)\n",
    "file_rdd = sc.wholeTextFiles(\"hw5/Data/*/*\")\n"
   ]
  },
  {
   "cell_type": "code",
   "execution_count": 2,
   "metadata": {},
   "outputs": [],
   "source": [
    "flat_test = file_rdd.flatMap(lambda x: [((word, x[0]), 1) for word in x[1].lower().split()])"
   ]
  },
  {
   "cell_type": "code",
   "execution_count": 3,
   "metadata": {},
   "outputs": [],
   "source": [
    "stopWord = {\"they\", \"she\", \"he\", \"it\", \"the\", \"as\", \"is\", \"and\"}\n",
    "filtered = flat_test.filter(lambda x: x[0][0].lower() not in stopWord)\n",
    "result_reduced = filtered.reduceByKey(lambda x, y: x + y)\n"
   ]
  },
  {
   "cell_type": "code",
   "execution_count": 4,
   "metadata": {},
   "outputs": [],
   "source": [
    "output_map = result_reduced.map(lambda x: (x[0][0], [(x[0][1], x[1])]))\n",
    "# output_map = result_reduced.map(lambda x: (x[0][0], [(x[0][1], x[1])]))\n",
    "# output_map = result_reduced.map(lambda x: (x[1], [(x[0][1], x[0][0])]))\n",
    "output_reduced = output_map.reduceByKey(lambda x, y: x + y)\n",
    "output_reduced.coalesce(1).saveAsTextFile(\"output\")\n"
   ]
  }
 ],
 "metadata": {
  "kernelspec": {
   "display_name": "Python 3",
   "language": "python",
   "name": "python3"
  },
  "language_info": {
   "codemirror_mode": {
    "name": "ipython",
    "version": 3
   },
   "file_extension": ".py",
   "mimetype": "text/x-python",
   "name": "python",
   "nbconvert_exporter": "python",
   "pygments_lexer": "ipython3",
   "version": "3.7.9"
  }
 },
 "nbformat": 4,
 "nbformat_minor": 4
}
